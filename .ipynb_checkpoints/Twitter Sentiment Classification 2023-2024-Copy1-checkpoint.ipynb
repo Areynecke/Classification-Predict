{
 "cells": [
  {
   "cell_type": "code",
   "execution_count": 1,
   "metadata": {
    "_cell_guid": "b1076dfc-b9ad-4769-8c92-a6c4dae69d19",
    "_uuid": "8f2839f25d086af736a60e9eeb907d3b93b6e0e5",
    "execution": {
     "iopub.execute_input": "2023-11-28T10:20:21.673544Z",
     "iopub.status.busy": "2023-11-28T10:20:21.673174Z",
     "iopub.status.idle": "2023-11-28T10:20:22.072662Z",
     "shell.execute_reply": "2023-11-28T10:20:22.071649Z",
     "shell.execute_reply.started": "2023-11-28T10:20:21.673509Z"
    }
   },
   "outputs": [],
   "source": [
    "# This Python 3 environment comes with many helpful analytics libraries installed\n",
    "# It is defined by the kaggle/python Docker image: https://github.com/kaggle/docker-python\n",
    "# For example, here's several helpful packages to load\n",
    "\n",
    "import numpy as np # linear algebra\n",
    "import pandas as pd # data processing, CSV file I/O (e.g. pd.read_csv)\n",
    "\n",
    "# Input data files are available in the read-only \"../input/\" directory\n",
    "# For example, running this (by clicking run or pressing Shift+Enter) will list all files under the input directory\n",
    "\n",
    "import os\n",
    "for dirname, _, filenames in os.walk('/kaggle/input'):\n",
    "    for filename in filenames:\n",
    "        print(os.path.join(dirname, filename))\n",
    "\n",
    "# You can write up to 20GB to the current directory (/kaggle/working/) that gets preserved as output when you create a version using \"Save & Run All\" \n",
    "# You can also write temporary files to /kaggle/temp/, but they won't be saved outside of the current session"
   ]
  },
  {
   "cell_type": "markdown",
   "metadata": {},
   "source": [
    "# EA - Twitter Sentiment Classification 2023-2024\n",
    "\n",
    "© Explore Data Science Academy\n",
    "\n",
    "---\n",
    "### Honour Code\n",
    "\n",
    "I Andries Reynecke, confirm - by submitting this document - that the solutions in this notebook are a result of my own work and that I abide by the [EDSA honour code](https://drive.google.com/file/d/1QDCjGZJ8-FmJE3bZdIQNwnJyQKPhHZBn/view?usp=sharing).\n",
    "\n",
    "Non-compliance with the honour code constitutes a material breach of contract.\n",
    "\n",
    "### Predict Overview: Twitter Sentiment Classification 2023-2024\n",
    "\n",
    "Many companies are built around lessening one’s environmental impact or carbon footprint. They offer products and services that are environmentally friendly and sustainable, in line with their values and ideals. They would like to determine how people perceive climate change and whether or not they believe it is a real threat. This would add to their market research efforts in gauging how their product/service may be received.\n",
    "\n",
    "With this context, EA is challenging you during the Classification Sprint with the task of creating a Machine Learning model that is able to classify whether or not a person believes in climate change, based on their novel tweet data.\n",
    "\n",
    "Providing an accurate and robust solution to this task gives companies access to a broad base of consumer sentiment, spanning multiple demographic and geographic categories - thus increasing their insights and informing future marketing strategies."
   ]
  },
  {
   "cell_type": "markdown",
   "metadata": {},
   "source": [
    "<a id=\"cont\"></a>\n",
    "\n",
    "## Table of Contents\n",
    "\n",
    "<a href=#one>1. Importing Packages</a>\n",
    "\n",
    "<a href=#two>2. Loading Data</a>\n",
    "\n",
    "<a href=#three>3. Exploratory Data Analysis (EDA)</a>\n",
    "\n",
    "<a href=#four>4. Data Engineering</a>\n",
    "\n",
    "<a href=#five>5. Modeling</a>\n",
    "\n",
    "<a href=#six>6. Model Performance</a>\n",
    "\n",
    "<a href=#seven>7. Model Explanations</a>"
   ]
  },
  {
   "cell_type": "markdown",
   "metadata": {},
   "source": [
    "<a id=\"one\"></a>\n",
    "## 1. Importing Packages\n",
    "<a href=#cont>Back to Table of Contents</a>\n",
    "\n",
    "---\n",
    "    \n"
   ]
  },
  {
   "cell_type": "markdown",
   "metadata": {},
   "source": [
    "The following code provided includes imports for multiple popular Python libraries used in machine learning and natural language processing tasks. "
   ]
  },
  {
   "cell_type": "code",
   "execution_count": 40,
   "metadata": {
    "ExecuteTime": {
     "end_time": "2021-06-23T10:30:53.800892Z",
     "start_time": "2021-06-23T10:30:50.215449Z"
    },
    "execution": {
     "iopub.execute_input": "2023-11-28T10:20:22.074831Z",
     "iopub.status.busy": "2023-11-28T10:20:22.074393Z",
     "iopub.status.idle": "2023-11-28T10:20:26.740921Z",
     "shell.execute_reply": "2023-11-28T10:20:26.739744Z",
     "shell.execute_reply.started": "2023-11-28T10:20:22.074800Z"
    }
   },
   "outputs": [],
   "source": [
    "#General Directory testing\n",
    "import os\n",
    "#Libraries for data loading and other basics needed to start\n",
    "import pandas as pd\n",
    "from sklearn.model_selection import train_test_split\n",
    "from sklearn.feature_extraction.text import TfidfVectorizer\n",
    "from sklearn.ensemble import RandomForestClassifier\n",
    "from sklearn.metrics import f1_score\n",
    "from sklearn.pipeline import make_pipeline\n",
    "#Text Processing\n",
    "import nltk\n",
    "from nltk.corpus import stopwords\n",
    "from nltk.stem import PorterStemmer, WordNetLemmatizer\n",
    "import string\n",
    "import re\n",
    "#Converting text data into a format suitable for machine learning models\n",
    "from sklearn.feature_extraction.text import TfidfVectorizer\n",
    "#Word2Vec\n",
    "from gensim.models import Word2Vec\n",
    "from nltk.tokenize import word_tokenize\n",
    "#Train and Evaluate\n",
    "from sklearn.model_selection import train_test_split\n",
    "from sklearn.ensemble import RandomForestClassifier\n",
    "from sklearn.svm import SVC\n",
    "from sklearn.metrics import f1_score\n",
    "from sklearn.neural_network import MLPClassifier\n",
    "from sklearn.preprocessing import StandardScaler\n",
    "import tensorflow as tf\n",
    "from tensorflow.keras.models import Sequential\n",
    "from tensorflow.keras.layers import Dense\n",
    "from sklearn.linear_model import LogisticRegression\n",
    "from sklearn.neighbors import KNeighborsClassifier\n",
    "from sklearn.tree import DecisionTreeClassifier\n",
    "from sklearn.ensemble import AdaBoostClassifier\n",
    "from sklearn.model_selection import GridSearchCV\n",
    "#Model performance\n",
    "import matplotlib.pyplot as plt"
   ]
  },
  {
   "cell_type": "markdown",
   "metadata": {},
   "source": [
    "<a id=\"two\"></a>\n",
    "## 2. Loading the Data\n",
    "<a class=\"anchor\" id=\"1.1\"></a>\n",
    "<a href=#cont>Back to Table of Contents</a>"
   ]
  },
  {
   "cell_type": "markdown",
   "metadata": {},
   "source": [
    "The following is used to make sure we are working in the correct directory as well as making sure that all the Datasets we will be using are all present. "
   ]
  },
  {
   "cell_type": "code",
   "execution_count": 2,
   "metadata": {},
   "outputs": [
    {
     "name": "stdout",
     "output_type": "stream",
     "text": [
      "Current Working Directory: C:\\Users\\Andries\\Desktop\\Data Science\\Advanced Classification\\Predict\n",
      "Files in Current Directory: ['.ipynb_checkpoints', 'Classification Predict Overview Slides - Individual.pdf', 'ea-twitter-sentiment-classification-2023-2024.zip', 'sample_submission.csv', 'test.csv', 'train.csv', 'Twitter Sentiment Classification 2023-2024-checkpoint.ipynb', 'Twitter Sentiment Classification 2023-2024.ipynb']\n"
     ]
    }
   ],
   "source": [
    "# Print current working directory\n",
    "print(\"Current Working Directory:\", os.getcwd())\n",
    "\n",
    "# Print files in the current directory\n",
    "print(\"Files in Current Directory:\", os.listdir())"
   ]
  },
  {
   "cell_type": "code",
   "execution_count": 3,
   "metadata": {
    "ExecuteTime": {
     "end_time": "2021-06-28T08:49:35.311495Z",
     "start_time": "2021-06-28T08:49:35.295494Z"
    },
    "execution": {
     "iopub.execute_input": "2023-11-28T10:20:26.743621Z",
     "iopub.status.busy": "2023-11-28T10:20:26.742582Z",
     "iopub.status.idle": "2023-11-28T10:20:27.106009Z",
     "shell.execute_reply": "2023-11-28T10:20:27.105021Z",
     "shell.execute_reply.started": "2023-11-28T10:20:26.743577Z"
    }
   },
   "outputs": [],
   "source": [
    "# The following has been loaded for when we submit on Kaggle. \n",
    "# train_df = pd.read_csv('/kaggle/input/ea-twitter-sentiment-classification-2023-2024/train.csv') \n",
    "# test_df = pd.read_csv('/kaggle/input/ea-twitter-sentiment-classification-2023-2024/test.csv')\n",
    "\n",
    "\n",
    "train_df = pd.read_csv('train.csv') \n",
    "test_df = pd.read_csv('test.csv')"
   ]
  },
  {
   "cell_type": "code",
   "execution_count": 4,
   "metadata": {
    "execution": {
     "iopub.execute_input": "2023-11-28T10:20:27.110071Z",
     "iopub.status.busy": "2023-11-28T10:20:27.109586Z",
     "iopub.status.idle": "2023-11-28T10:20:27.149486Z",
     "shell.execute_reply": "2023-11-28T10:20:27.148659Z",
     "shell.execute_reply.started": "2023-11-28T10:20:27.110017Z"
    }
   },
   "outputs": [
    {
     "data": {
      "text/html": [
       "<div>\n",
       "<style scoped>\n",
       "    .dataframe tbody tr th:only-of-type {\n",
       "        vertical-align: middle;\n",
       "    }\n",
       "\n",
       "    .dataframe tbody tr th {\n",
       "        vertical-align: top;\n",
       "    }\n",
       "\n",
       "    .dataframe thead th {\n",
       "        text-align: right;\n",
       "    }\n",
       "</style>\n",
       "<table border=\"1\" class=\"dataframe\">\n",
       "  <thead>\n",
       "    <tr style=\"text-align: right;\">\n",
       "      <th></th>\n",
       "      <th>sentiment</th>\n",
       "      <th>message</th>\n",
       "      <th>tweetid</th>\n",
       "    </tr>\n",
       "  </thead>\n",
       "  <tbody>\n",
       "    <tr>\n",
       "      <th>0</th>\n",
       "      <td>1</td>\n",
       "      <td>PolySciMajor EPA chief doesn't think carbon di...</td>\n",
       "      <td>625221</td>\n",
       "    </tr>\n",
       "    <tr>\n",
       "      <th>1</th>\n",
       "      <td>1</td>\n",
       "      <td>It's not like we lack evidence of anthropogeni...</td>\n",
       "      <td>126103</td>\n",
       "    </tr>\n",
       "    <tr>\n",
       "      <th>2</th>\n",
       "      <td>2</td>\n",
       "      <td>RT @RawStory: Researchers say we have three ye...</td>\n",
       "      <td>698562</td>\n",
       "    </tr>\n",
       "    <tr>\n",
       "      <th>3</th>\n",
       "      <td>1</td>\n",
       "      <td>#TodayinMaker# WIRED : 2016 was a pivotal year...</td>\n",
       "      <td>573736</td>\n",
       "    </tr>\n",
       "    <tr>\n",
       "      <th>4</th>\n",
       "      <td>1</td>\n",
       "      <td>RT @SoyNovioDeTodas: It's 2016, and a racist, ...</td>\n",
       "      <td>466954</td>\n",
       "    </tr>\n",
       "  </tbody>\n",
       "</table>\n",
       "</div>"
      ],
      "text/plain": [
       "   sentiment                                            message  tweetid\n",
       "0          1  PolySciMajor EPA chief doesn't think carbon di...   625221\n",
       "1          1  It's not like we lack evidence of anthropogeni...   126103\n",
       "2          2  RT @RawStory: Researchers say we have three ye...   698562\n",
       "3          1  #TodayinMaker# WIRED : 2016 was a pivotal year...   573736\n",
       "4          1  RT @SoyNovioDeTodas: It's 2016, and a racist, ...   466954"
      ]
     },
     "execution_count": 4,
     "metadata": {},
     "output_type": "execute_result"
    }
   ],
   "source": [
    "#overview of the training dataset\n",
    "train_df.head(5)"
   ]
  },
  {
   "cell_type": "code",
   "execution_count": 5,
   "metadata": {
    "execution": {
     "iopub.execute_input": "2023-11-28T10:20:27.151963Z",
     "iopub.status.busy": "2023-11-28T10:20:27.150529Z",
     "iopub.status.idle": "2023-11-28T10:20:27.177214Z",
     "shell.execute_reply": "2023-11-28T10:20:27.176360Z",
     "shell.execute_reply.started": "2023-11-28T10:20:27.151917Z"
    }
   },
   "outputs": [
    {
     "data": {
      "text/html": [
       "<div>\n",
       "<style scoped>\n",
       "    .dataframe tbody tr th:only-of-type {\n",
       "        vertical-align: middle;\n",
       "    }\n",
       "\n",
       "    .dataframe tbody tr th {\n",
       "        vertical-align: top;\n",
       "    }\n",
       "\n",
       "    .dataframe thead th {\n",
       "        text-align: right;\n",
       "    }\n",
       "</style>\n",
       "<table border=\"1\" class=\"dataframe\">\n",
       "  <thead>\n",
       "    <tr style=\"text-align: right;\">\n",
       "      <th></th>\n",
       "      <th>message</th>\n",
       "      <th>tweetid</th>\n",
       "    </tr>\n",
       "  </thead>\n",
       "  <tbody>\n",
       "    <tr>\n",
       "      <th>0</th>\n",
       "      <td>Europe will now be looking to China to make su...</td>\n",
       "      <td>169760</td>\n",
       "    </tr>\n",
       "    <tr>\n",
       "      <th>1</th>\n",
       "      <td>Combine this with the polling of staffers re c...</td>\n",
       "      <td>35326</td>\n",
       "    </tr>\n",
       "    <tr>\n",
       "      <th>2</th>\n",
       "      <td>The scary, unimpeachable evidence that climate...</td>\n",
       "      <td>224985</td>\n",
       "    </tr>\n",
       "    <tr>\n",
       "      <th>3</th>\n",
       "      <td>@Karoli @morgfair @OsborneInk @dailykos \\nPuti...</td>\n",
       "      <td>476263</td>\n",
       "    </tr>\n",
       "    <tr>\n",
       "      <th>4</th>\n",
       "      <td>RT @FakeWillMoore: 'Female orgasms cause globa...</td>\n",
       "      <td>872928</td>\n",
       "    </tr>\n",
       "  </tbody>\n",
       "</table>\n",
       "</div>"
      ],
      "text/plain": [
       "                                             message  tweetid\n",
       "0  Europe will now be looking to China to make su...   169760\n",
       "1  Combine this with the polling of staffers re c...    35326\n",
       "2  The scary, unimpeachable evidence that climate...   224985\n",
       "3  @Karoli @morgfair @OsborneInk @dailykos \\nPuti...   476263\n",
       "4  RT @FakeWillMoore: 'Female orgasms cause globa...   872928"
      ]
     },
     "execution_count": 5,
     "metadata": {},
     "output_type": "execute_result"
    }
   ],
   "source": [
    "#overview of the testing dataset\n",
    "test_df.head(5)"
   ]
  },
  {
   "cell_type": "markdown",
   "metadata": {},
   "source": [
    "<a id=\"three\"></a>\n",
    "# 3. Exploratory Data Analysis (EDA)\n",
    "<a class=\"anchor\" id=\"1.1\"></a>\n",
    "<a href=#cont>Back to Table of Contents</a>"
   ]
  },
  {
   "cell_type": "markdown",
   "metadata": {},
   "source": [
    "The following is only to get an understanding of the size of our datasets. This would be the rows and columns we will have to work with."
   ]
  },
  {
   "cell_type": "code",
   "execution_count": 6,
   "metadata": {
    "ExecuteTime": {
     "end_time": "2021-06-28T08:52:37.824204Z",
     "start_time": "2021-06-28T08:52:37.811206Z"
    },
    "execution": {
     "iopub.execute_input": "2023-11-28T10:20:27.179277Z",
     "iopub.status.busy": "2023-11-28T10:20:27.178246Z",
     "iopub.status.idle": "2023-11-28T10:20:27.188331Z",
     "shell.execute_reply": "2023-11-28T10:20:27.187237Z",
     "shell.execute_reply.started": "2023-11-28T10:20:27.179231Z"
    }
   },
   "outputs": [
    {
     "data": {
      "text/plain": [
       "(15819, 3)"
      ]
     },
     "execution_count": 6,
     "metadata": {},
     "output_type": "execute_result"
    }
   ],
   "source": [
    "#Data shape\n",
    "train_df.shape"
   ]
  },
  {
   "cell_type": "code",
   "execution_count": 7,
   "metadata": {
    "execution": {
     "iopub.execute_input": "2023-11-28T10:20:27.190001Z",
     "iopub.status.busy": "2023-11-28T10:20:27.189581Z",
     "iopub.status.idle": "2023-11-28T10:20:27.201304Z",
     "shell.execute_reply": "2023-11-28T10:20:27.200436Z",
     "shell.execute_reply.started": "2023-11-28T10:20:27.189961Z"
    }
   },
   "outputs": [
    {
     "data": {
      "text/plain": [
       "(10546, 2)"
      ]
     },
     "execution_count": 7,
     "metadata": {},
     "output_type": "execute_result"
    }
   ],
   "source": [
    "#Data shape\n",
    "test_df.shape"
   ]
  },
  {
   "cell_type": "markdown",
   "metadata": {},
   "source": [
    "#### Having a general look at the data sets\n",
    "\n",
    "- To determine the data types - so that we know what we are working with\n",
    "- Making sure we have no Null/missing entries"
   ]
  },
  {
   "cell_type": "code",
   "execution_count": 8,
   "metadata": {
    "execution": {
     "iopub.execute_input": "2023-11-28T10:20:27.203068Z",
     "iopub.status.busy": "2023-11-28T10:20:27.202352Z",
     "iopub.status.idle": "2023-11-28T10:20:27.233963Z",
     "shell.execute_reply": "2023-11-28T10:20:27.232893Z",
     "shell.execute_reply.started": "2023-11-28T10:20:27.203036Z"
    }
   },
   "outputs": [
    {
     "name": "stdout",
     "output_type": "stream",
     "text": [
      "<class 'pandas.core.frame.DataFrame'>\n",
      "RangeIndex: 15819 entries, 0 to 15818\n",
      "Data columns (total 3 columns):\n",
      " #   Column     Non-Null Count  Dtype \n",
      "---  ------     --------------  ----- \n",
      " 0   sentiment  15819 non-null  int64 \n",
      " 1   message    15819 non-null  object\n",
      " 2   tweetid    15819 non-null  int64 \n",
      "dtypes: int64(2), object(1)\n",
      "memory usage: 370.9+ KB\n"
     ]
    }
   ],
   "source": [
    "#Checking data type/Null Count for each column\n",
    "train_df.info() "
   ]
  },
  {
   "cell_type": "markdown",
   "metadata": {},
   "source": [
    "- Doing the same for the test_df"
   ]
  },
  {
   "cell_type": "code",
   "execution_count": 9,
   "metadata": {
    "execution": {
     "iopub.execute_input": "2023-11-28T10:20:27.236316Z",
     "iopub.status.busy": "2023-11-28T10:20:27.235302Z",
     "iopub.status.idle": "2023-11-28T10:20:27.250296Z",
     "shell.execute_reply": "2023-11-28T10:20:27.249195Z",
     "shell.execute_reply.started": "2023-11-28T10:20:27.236281Z"
    }
   },
   "outputs": [
    {
     "name": "stdout",
     "output_type": "stream",
     "text": [
      "<class 'pandas.core.frame.DataFrame'>\n",
      "RangeIndex: 10546 entries, 0 to 10545\n",
      "Data columns (total 2 columns):\n",
      " #   Column   Non-Null Count  Dtype \n",
      "---  ------   --------------  ----- \n",
      " 0   message  10546 non-null  object\n",
      " 1   tweetid  10546 non-null  int64 \n",
      "dtypes: int64(1), object(1)\n",
      "memory usage: 164.9+ KB\n"
     ]
    }
   ],
   "source": [
    "#Checking data type/Null Count for each column\n",
    "test_df.info() "
   ]
  },
  {
   "cell_type": "markdown",
   "metadata": {},
   "source": [
    "We have noted above that the both instances of the data receive are in order and there will be no further exploration needed. In the train.csv the Sentiment, message and tweetid is inline 15819 values each. The same with our test set, 10546."
   ]
  },
  {
   "cell_type": "markdown",
   "metadata": {},
   "source": [
    "<a id=\"four\"></a>\n",
    "# 4. Data Engineering\n",
    "<a class=\"anchor\" id=\"1.1\"></a>\n",
    "<a href=#cont>Back to Table of Contents</a>"
   ]
  },
  {
   "cell_type": "markdown",
   "metadata": {},
   "source": [
    "### The following steps will be followed for us to process the data to make it work with our modeling\n",
    "\n",
    "- Text Preprocessing Functions - The text preprocessing functions (e.g., removing punctuation, removing stopwords, stemming, lemmatization) focus on cleaning and transforming raw text data before it is fed into the TF-IDF vectorizer or any other vectorization method.\n",
    "- TF-IDF Vectorization - TF-IDF is a numerical representation technique that converts a collection of raw text documents into a matrix of TF-IDF features. It considers the importance of each term in a document relative to its occurrence across the entire corpus. It is used for feature extraction, creating a numerical representation of text data suitable for machine learning models."
   ]
  },
  {
   "cell_type": "markdown",
   "metadata": {},
   "source": [
    "### Making copies of our dataset to avoid unrecoverable problems using __.copy()__"
   ]
  },
  {
   "cell_type": "code",
   "execution_count": 10,
   "metadata": {
    "execution": {
     "iopub.execute_input": "2023-11-28T10:20:36.209709Z",
     "iopub.status.busy": "2023-11-28T10:20:36.208733Z",
     "iopub.status.idle": "2023-11-28T10:20:36.217210Z",
     "shell.execute_reply": "2023-11-28T10:20:36.216164Z",
     "shell.execute_reply.started": "2023-11-28T10:20:36.209671Z"
    }
   },
   "outputs": [],
   "source": [
    "#before I alter the df, I will be setting up a copy to avoid any unrecoverable problems.\n",
    "copy_train_df = train_df.copy()\n",
    "copy_test_df = test_df.copy()"
   ]
  },
  {
   "cell_type": "markdown",
   "metadata": {},
   "source": [
    "### Text Preprocessing\n",
    "\n",
    "The provided functions perform specific tasks such as removing punctuation, removing stopwords, applying stemming, and applying lemmatization. These are common techniques we use to enhance the quality of textual data, making it more suitable for analysis and modeling."
   ]
  },
  {
   "cell_type": "code",
   "execution_count": 11,
   "metadata": {
    "execution": {
     "iopub.execute_input": "2023-11-28T10:20:36.219046Z",
     "iopub.status.busy": "2023-11-28T10:20:36.218581Z",
     "iopub.status.idle": "2023-11-28T10:20:36.299386Z",
     "shell.execute_reply": "2023-11-28T10:20:36.298258Z",
     "shell.execute_reply.started": "2023-11-28T10:20:36.219004Z"
    }
   },
   "outputs": [
    {
     "name": "stderr",
     "output_type": "stream",
     "text": [
      "[nltk_data] Downloading package stopwords to\n",
      "[nltk_data]     C:\\Users\\Andries\\AppData\\Roaming\\nltk_data...\n",
      "[nltk_data]   Package stopwords is already up-to-date!\n",
      "[nltk_data] Downloading package wordnet to\n",
      "[nltk_data]     C:\\Users\\Andries\\AppData\\Roaming\\nltk_data...\n",
      "[nltk_data]   Package wordnet is already up-to-date!\n"
     ]
    },
    {
     "data": {
      "text/plain": [
       "True"
      ]
     },
     "execution_count": 11,
     "metadata": {},
     "output_type": "execute_result"
    }
   ],
   "source": [
    "#Before we start we need to make sure we download NLTK resources \n",
    "nltk.download(\"stopwords\")\n",
    "nltk.download(\"wordnet\")"
   ]
  },
  {
   "cell_type": "markdown",
   "metadata": {},
   "source": [
    "In the following step we will be using 4 preprocessing functions, removing the punctuations, stopwords, applying stemming \n",
    "and lemmatization. Through the steps we will be showing the top 5 so that we can note the changes that's been made. "
   ]
  },
  {
   "cell_type": "code",
   "execution_count": 12,
   "metadata": {},
   "outputs": [
    {
     "name": "stdout",
     "output_type": "stream",
     "text": [
      "   sentiment                                            message  tweetid\n",
      "0          1  PolySciMajor EPA chief doesn't think carbon di...   625221\n",
      "1          1  It's not like we lack evidence of anthropogeni...   126103\n",
      "2          2  RT @RawStory: Researchers say we have three ye...   698562\n",
      "   sentiment                                            message  tweetid\n",
      "0          1  PolySciMajor EPA chief doesnt think carbon dio...   625221\n",
      "1          1  Its not like we lack evidence of anthropogenic...   126103\n",
      "2          2  RT RawStory Researchers say we have three year...   698562\n",
      "   sentiment                                            message  tweetid\n",
      "0          1  PolySciMajor EPA chief doesnt think carbon dio...   625221\n",
      "1          1    like lack evidence anthropogenic global warming   126103\n",
      "2          2  RT RawStory Researchers say three years act cl...   698562\n",
      "   sentiment                                            message  tweetid\n",
      "0          1  polyscimajor epa chief doesnt think carbon dio...   625221\n",
      "1          1             like lack evid anthropogen global warm   126103\n",
      "2          2  rt rawstori research say three year act climat...   698562\n",
      "   sentiment                                            message  tweetid\n",
      "0          1  polyscimajor epa chief doesnt think carbon dio...   625221\n",
      "1          1             like lack evid anthropogen global warm   126103\n",
      "2          2  rt rawstori research say three year act climat...   698562\n"
     ]
    }
   ],
   "source": [
    "# Define functions for text preprocessing\n",
    "def remove_punctuation(text):\n",
    "    return re.sub(r'[^\\w\\s]', '', text)\n",
    "\n",
    "def remove_stopwords(text):\n",
    "    stop_words = set(stopwords.words(\"english\"))\n",
    "    words = nltk.word_tokenize(text)\n",
    "    return \" \".join([word for word in words if word.lower() not in stop_words])\n",
    "\n",
    "def apply_stemming(text):\n",
    "    stemmer = PorterStemmer()\n",
    "    words = nltk.word_tokenize(text)\n",
    "    return \" \".join([stemmer.stem(word) for word in words])\n",
    "\n",
    "def apply_lemmatization(text):\n",
    "    lemmatizer = WordNetLemmatizer()\n",
    "    words = nltk.word_tokenize(text)\n",
    "    return \" \".join([lemmatizer.lemmatize(word) for word in words])\n",
    "\n",
    "# Apply preprocessing to the \"message\" column\n",
    "print(copy_train_df.head(3))\n",
    "copy_train_df[\"message\"] = copy_train_df[\"message\"].apply(remove_punctuation)\n",
    "print(copy_train_df.head(3))\n",
    "copy_train_df[\"message\"] = copy_train_df[\"message\"].apply(remove_stopwords)\n",
    "print(copy_train_df.head(3))\n",
    "copy_train_df[\"message\"] = copy_train_df[\"message\"].apply(apply_stemming)\n",
    "print(copy_train_df.head(3))\n",
    "copy_train_df[\"message\"] = copy_train_df[\"message\"].apply(apply_lemmatization)\n",
    "print(copy_train_df.head(3))"
   ]
  },
  {
   "cell_type": "markdown",
   "metadata": {},
   "source": [
    "No that we processed our training data we need to follow the same steps with our test data. "
   ]
  },
  {
   "cell_type": "code",
   "execution_count": 13,
   "metadata": {},
   "outputs": [
    {
     "name": "stdout",
     "output_type": "stream",
     "text": [
      "                                             message  tweetid\n",
      "0  Europe will now be looking to China to make su...   169760\n",
      "1  Combine this with the polling of staffers re c...    35326\n",
      "2  The scary, unimpeachable evidence that climate...   224985\n",
      "                                             message  tweetid\n",
      "0  Europe will now be looking to China to make su...   169760\n",
      "1  Combine this with the polling of staffers re c...    35326\n",
      "2  The scary unimpeachable evidence that climate ...   224985\n",
      "                                             message  tweetid\n",
      "0  Europe looking China make sure alone fighting ...   169760\n",
      "1  Combine polling staffers climate change womens...    35326\n",
      "2  scary unimpeachable evidence climate change al...   224985\n",
      "                                             message  tweetid\n",
      "0  europ look china make sure alon fight climat c...   169760\n",
      "1  combin poll staffer climat chang women right f...    35326\n",
      "2  scari unimpeach evid climat chang alreadi http...   224985\n",
      "                                             message  tweetid\n",
      "0  europ look china make sure alon fight climat c...   169760\n",
      "1  combin poll staffer climat chang woman right f...    35326\n",
      "2  scari unimpeach evid climat chang alreadi http...   224985\n"
     ]
    }
   ],
   "source": [
    "# Define functions for text preprocessing\n",
    "def remove_punctuation(text):\n",
    "    return re.sub(r'[^\\w\\s]', '', text)\n",
    "\n",
    "def remove_stopwords(text):\n",
    "    stop_words = set(stopwords.words(\"english\"))\n",
    "    words = nltk.word_tokenize(text)\n",
    "    return \" \".join([word for word in words if word.lower() not in stop_words])\n",
    "\n",
    "def apply_stemming(text):\n",
    "    stemmer = PorterStemmer()\n",
    "    words = nltk.word_tokenize(text)\n",
    "    return \" \".join([stemmer.stem(word) for word in words])\n",
    "\n",
    "def apply_lemmatization(text):\n",
    "    lemmatizer = WordNetLemmatizer()\n",
    "    words = nltk.word_tokenize(text)\n",
    "    return \" \".join([lemmatizer.lemmatize(word) for word in words])\n",
    "\n",
    "# Apply preprocessing to the \"message\" column\n",
    "print(copy_test_df.head(3))\n",
    "copy_test_df[\"message\"] = copy_test_df[\"message\"].apply(remove_punctuation)\n",
    "print(copy_test_df.head(3))\n",
    "copy_test_df[\"message\"] = copy_test_df[\"message\"].apply(remove_stopwords)\n",
    "print(copy_test_df.head(3))\n",
    "copy_test_df[\"message\"] = copy_test_df[\"message\"].apply(apply_stemming)\n",
    "print(copy_test_df.head(3))\n",
    "copy_test_df[\"message\"] = copy_test_df[\"message\"].apply(apply_lemmatization)\n",
    "print(copy_test_df.head(3))"
   ]
  },
  {
   "cell_type": "markdown",
   "metadata": {},
   "source": [
    "As mentioned in the steps to follow above, we will now be using the **RFIDVectorizer** function to change the value to a numerical representation of text data suitable for machine learning models"
   ]
  },
  {
   "cell_type": "code",
   "execution_count": 15,
   "metadata": {},
   "outputs": [],
   "source": [
    "# Step 3: Vectorize Text Data in the training data set\n",
    "vectorizer = TfidfVectorizer(stop_words=\"english\")\n",
    "X_tfidf_train = vectorizer.fit_transform(copy_train_df[\"message\"])"
   ]
  },
  {
   "cell_type": "code",
   "execution_count": 16,
   "metadata": {},
   "outputs": [],
   "source": [
    "# Step 3: Vectorize Text Data in the testing data set\n",
    "vectorizer = TfidfVectorizer(stop_words=\"english\")\n",
    "X_tfidf_test = vectorizer.fit_transform(copy_test_df[\"message\"])"
   ]
  },
  {
   "cell_type": "markdown",
   "metadata": {},
   "source": [
    "<a id=\"five\"></a>\n",
    "# 5. Modelling\n",
    "<a class=\"anchor\" id=\"1.1\"></a>\n",
    "<a href=#cont>Back to Table of Contents</a>"
   ]
  },
  {
   "cell_type": "markdown",
   "metadata": {},
   "source": [
    "## Model Building\n",
    "Now that we have our processed we are now ready to build our model."
   ]
  },
  {
   "cell_type": "markdown",
   "metadata": {},
   "source": [
    "To start our modeling we will need to split the training columns X and Y"
   ]
  },
  {
   "cell_type": "code",
   "execution_count": 18,
   "metadata": {
    "execution": {
     "iopub.execute_input": "2023-11-28T10:20:37.849758Z",
     "iopub.status.busy": "2023-11-28T10:20:37.849162Z",
     "iopub.status.idle": "2023-11-28T10:20:37.858221Z",
     "shell.execute_reply": "2023-11-28T10:20:37.857372Z",
     "shell.execute_reply.started": "2023-11-28T10:20:37.849723Z"
    }
   },
   "outputs": [],
   "source": [
    "X = X_tfidf_train\n",
    "Y = copy_train_df['sentiment']"
   ]
  },
  {
   "cell_type": "markdown",
   "metadata": {},
   "source": [
    "To test different scalers we have loaded 3 types each with its own unique benefit to test the different results. \n",
    "\n",
    "To breakdown all three: \n",
    "\n",
    "- StandardScaler:\n",
    "\n",
    "Use:\n",
    "StandardScaler is used to standardize features by removing the mean and scaling to unit variance.\n",
    "It transforms the data distribution to have a mean of 0 and a standard deviation of 1.\n",
    "\n",
    "Benefits:\n",
    "Effective when features in the dataset have different means and standard deviations.\n",
    "Suitable for algorithms that assume normally distributed features.\n",
    "Helps in preventing features with larger scales from dominating the learning process.\n",
    "\n",
    "- RobustScaler:\n",
    "\n",
    "Use:\n",
    "RobustScaler is designed to scale features by removing the median and scaling to the interquartile range (IQR).\n",
    "It is less sensitive to the presence of outliers compared to StandardScaler.\n",
    "\n",
    "Benefits:\n",
    "Suitable when dealing with datasets containing outliers or skewed distributions.\n",
    "Provides a more robust scaling method by using the median and IQR, making it less influenced by extreme values.\n",
    "\n",
    "- MaxAbsScaler:\n",
    "\n",
    "Use:\n",
    "MaxAbsScaler scales each feature by dividing it by the maximum absolute value of that feature.\n",
    "It preserves the sign of the data, making it suitable for datasets with a mix of positive and negative values.\n",
    "\n",
    "Benefits:\n",
    "Useful when the scale of different features is crucial, but you want to retain the sign information.\n",
    "Appropriate when the range of values across features varies widely."
   ]
  },
  {
   "cell_type": "code",
   "execution_count": 19,
   "metadata": {
    "execution": {
     "iopub.execute_input": "2023-11-28T10:20:37.860341Z",
     "iopub.status.busy": "2023-11-28T10:20:37.859379Z",
     "iopub.status.idle": "2023-11-28T10:20:37.874106Z",
     "shell.execute_reply": "2023-11-28T10:20:37.872990Z",
     "shell.execute_reply.started": "2023-11-28T10:20:37.860309Z"
    }
   },
   "outputs": [],
   "source": [
    "X_dense = X.toarray()\n",
    "\n",
    "scaler = StandardScaler()\n",
    "#scaler = RobustScaler()\n",
    "#scaler = MaxAbsScaler()"
   ]
  },
  {
   "cell_type": "code",
   "execution_count": 20,
   "metadata": {
    "execution": {
     "iopub.execute_input": "2023-11-28T10:20:37.875897Z",
     "iopub.status.busy": "2023-11-28T10:20:37.875562Z",
     "iopub.status.idle": "2023-11-28T10:20:37.938715Z",
     "shell.execute_reply": "2023-11-28T10:20:37.937754Z",
     "shell.execute_reply.started": "2023-11-28T10:20:37.875871Z"
    }
   },
   "outputs": [
    {
     "ename": "ValueError",
     "evalue": "Cannot center sparse matrices: pass `with_mean=False` instead. See docstring for motivation and alternatives.",
     "output_type": "error",
     "traceback": [
      "\u001b[1;31m---------------------------------------------------------------------------\u001b[0m",
      "\u001b[1;31mValueError\u001b[0m                                Traceback (most recent call last)",
      "Cell \u001b[1;32mIn[20], line 2\u001b[0m\n\u001b[0;32m      1\u001b[0m \u001b[38;5;66;03m# Save standardized features into new variable\u001b[39;00m\n\u001b[1;32m----> 2\u001b[0m X_scaled \u001b[38;5;241m=\u001b[39m \u001b[43mscaler\u001b[49m\u001b[38;5;241;43m.\u001b[39;49m\u001b[43mfit_transform\u001b[49m\u001b[43m(\u001b[49m\u001b[43mX\u001b[49m\u001b[43m)\u001b[49m\n\u001b[0;32m      3\u001b[0m X_scaled \u001b[38;5;241m=\u001b[39m pd\u001b[38;5;241m.\u001b[39mDataFrame(X_scaled,columns\u001b[38;5;241m=\u001b[39mX\u001b[38;5;241m.\u001b[39mcolumns)\n\u001b[0;32m      4\u001b[0m X_scaled\u001b[38;5;241m.\u001b[39mhead(\u001b[38;5;241m5\u001b[39m)\n",
      "File \u001b[1;32m~\\AppData\\Roaming\\Python\\Python310\\site-packages\\sklearn\\utils\\_set_output.py:157\u001b[0m, in \u001b[0;36m_wrap_method_output.<locals>.wrapped\u001b[1;34m(self, X, *args, **kwargs)\u001b[0m\n\u001b[0;32m    155\u001b[0m \u001b[38;5;129m@wraps\u001b[39m(f)\n\u001b[0;32m    156\u001b[0m \u001b[38;5;28;01mdef\u001b[39;00m \u001b[38;5;21mwrapped\u001b[39m(\u001b[38;5;28mself\u001b[39m, X, \u001b[38;5;241m*\u001b[39margs, \u001b[38;5;241m*\u001b[39m\u001b[38;5;241m*\u001b[39mkwargs):\n\u001b[1;32m--> 157\u001b[0m     data_to_wrap \u001b[38;5;241m=\u001b[39m f(\u001b[38;5;28mself\u001b[39m, X, \u001b[38;5;241m*\u001b[39margs, \u001b[38;5;241m*\u001b[39m\u001b[38;5;241m*\u001b[39mkwargs)\n\u001b[0;32m    158\u001b[0m     \u001b[38;5;28;01mif\u001b[39;00m \u001b[38;5;28misinstance\u001b[39m(data_to_wrap, \u001b[38;5;28mtuple\u001b[39m):\n\u001b[0;32m    159\u001b[0m         \u001b[38;5;66;03m# only wrap the first output for cross decomposition\u001b[39;00m\n\u001b[0;32m    160\u001b[0m         return_tuple \u001b[38;5;241m=\u001b[39m (\n\u001b[0;32m    161\u001b[0m             _wrap_data_with_container(method, data_to_wrap[\u001b[38;5;241m0\u001b[39m], X, \u001b[38;5;28mself\u001b[39m),\n\u001b[0;32m    162\u001b[0m             \u001b[38;5;241m*\u001b[39mdata_to_wrap[\u001b[38;5;241m1\u001b[39m:],\n\u001b[0;32m    163\u001b[0m         )\n",
      "File \u001b[1;32m~\\AppData\\Roaming\\Python\\Python310\\site-packages\\sklearn\\base.py:916\u001b[0m, in \u001b[0;36mTransformerMixin.fit_transform\u001b[1;34m(self, X, y, **fit_params)\u001b[0m\n\u001b[0;32m    912\u001b[0m \u001b[38;5;66;03m# non-optimized default implementation; override when a better\u001b[39;00m\n\u001b[0;32m    913\u001b[0m \u001b[38;5;66;03m# method is possible for a given clustering algorithm\u001b[39;00m\n\u001b[0;32m    914\u001b[0m \u001b[38;5;28;01mif\u001b[39;00m y \u001b[38;5;129;01mis\u001b[39;00m \u001b[38;5;28;01mNone\u001b[39;00m:\n\u001b[0;32m    915\u001b[0m     \u001b[38;5;66;03m# fit method of arity 1 (unsupervised transformation)\u001b[39;00m\n\u001b[1;32m--> 916\u001b[0m     \u001b[38;5;28;01mreturn\u001b[39;00m \u001b[38;5;28mself\u001b[39m\u001b[38;5;241m.\u001b[39mfit(X, \u001b[38;5;241m*\u001b[39m\u001b[38;5;241m*\u001b[39mfit_params)\u001b[38;5;241m.\u001b[39mtransform(X)\n\u001b[0;32m    917\u001b[0m \u001b[38;5;28;01melse\u001b[39;00m:\n\u001b[0;32m    918\u001b[0m     \u001b[38;5;66;03m# fit method of arity 2 (supervised transformation)\u001b[39;00m\n\u001b[0;32m    919\u001b[0m     \u001b[38;5;28;01mreturn\u001b[39;00m \u001b[38;5;28mself\u001b[39m\u001b[38;5;241m.\u001b[39mfit(X, y, \u001b[38;5;241m*\u001b[39m\u001b[38;5;241m*\u001b[39mfit_params)\u001b[38;5;241m.\u001b[39mtransform(X)\n",
      "File \u001b[1;32m~\\AppData\\Roaming\\Python\\Python310\\site-packages\\sklearn\\preprocessing\\_data.py:839\u001b[0m, in \u001b[0;36mStandardScaler.fit\u001b[1;34m(self, X, y, sample_weight)\u001b[0m\n\u001b[0;32m    837\u001b[0m \u001b[38;5;66;03m# Reset internal state before fitting\u001b[39;00m\n\u001b[0;32m    838\u001b[0m \u001b[38;5;28mself\u001b[39m\u001b[38;5;241m.\u001b[39m_reset()\n\u001b[1;32m--> 839\u001b[0m \u001b[38;5;28;01mreturn\u001b[39;00m \u001b[38;5;28;43mself\u001b[39;49m\u001b[38;5;241;43m.\u001b[39;49m\u001b[43mpartial_fit\u001b[49m\u001b[43m(\u001b[49m\u001b[43mX\u001b[49m\u001b[43m,\u001b[49m\u001b[43m \u001b[49m\u001b[43my\u001b[49m\u001b[43m,\u001b[49m\u001b[43m \u001b[49m\u001b[43msample_weight\u001b[49m\u001b[43m)\u001b[49m\n",
      "File \u001b[1;32m~\\AppData\\Roaming\\Python\\Python310\\site-packages\\sklearn\\base.py:1152\u001b[0m, in \u001b[0;36m_fit_context.<locals>.decorator.<locals>.wrapper\u001b[1;34m(estimator, *args, **kwargs)\u001b[0m\n\u001b[0;32m   1145\u001b[0m     estimator\u001b[38;5;241m.\u001b[39m_validate_params()\n\u001b[0;32m   1147\u001b[0m \u001b[38;5;28;01mwith\u001b[39;00m config_context(\n\u001b[0;32m   1148\u001b[0m     skip_parameter_validation\u001b[38;5;241m=\u001b[39m(\n\u001b[0;32m   1149\u001b[0m         prefer_skip_nested_validation \u001b[38;5;129;01mor\u001b[39;00m global_skip_validation\n\u001b[0;32m   1150\u001b[0m     )\n\u001b[0;32m   1151\u001b[0m ):\n\u001b[1;32m-> 1152\u001b[0m     \u001b[38;5;28;01mreturn\u001b[39;00m fit_method(estimator, \u001b[38;5;241m*\u001b[39margs, \u001b[38;5;241m*\u001b[39m\u001b[38;5;241m*\u001b[39mkwargs)\n",
      "File \u001b[1;32m~\\AppData\\Roaming\\Python\\Python310\\site-packages\\sklearn\\preprocessing\\_data.py:903\u001b[0m, in \u001b[0;36mStandardScaler.partial_fit\u001b[1;34m(self, X, y, sample_weight)\u001b[0m\n\u001b[0;32m    901\u001b[0m \u001b[38;5;28;01mif\u001b[39;00m sparse\u001b[38;5;241m.\u001b[39missparse(X):\n\u001b[0;32m    902\u001b[0m     \u001b[38;5;28;01mif\u001b[39;00m \u001b[38;5;28mself\u001b[39m\u001b[38;5;241m.\u001b[39mwith_mean:\n\u001b[1;32m--> 903\u001b[0m         \u001b[38;5;28;01mraise\u001b[39;00m \u001b[38;5;167;01mValueError\u001b[39;00m(\n\u001b[0;32m    904\u001b[0m             \u001b[38;5;124m\"\u001b[39m\u001b[38;5;124mCannot center sparse matrices: pass `with_mean=False` \u001b[39m\u001b[38;5;124m\"\u001b[39m\n\u001b[0;32m    905\u001b[0m             \u001b[38;5;124m\"\u001b[39m\u001b[38;5;124minstead. See docstring for motivation and alternatives.\u001b[39m\u001b[38;5;124m\"\u001b[39m\n\u001b[0;32m    906\u001b[0m         )\n\u001b[0;32m    907\u001b[0m     sparse_constructor \u001b[38;5;241m=\u001b[39m (\n\u001b[0;32m    908\u001b[0m         sparse\u001b[38;5;241m.\u001b[39mcsr_matrix \u001b[38;5;28;01mif\u001b[39;00m X\u001b[38;5;241m.\u001b[39mformat \u001b[38;5;241m==\u001b[39m \u001b[38;5;124m\"\u001b[39m\u001b[38;5;124mcsr\u001b[39m\u001b[38;5;124m\"\u001b[39m \u001b[38;5;28;01melse\u001b[39;00m sparse\u001b[38;5;241m.\u001b[39mcsc_matrix\n\u001b[0;32m    909\u001b[0m     )\n\u001b[0;32m    911\u001b[0m     \u001b[38;5;28;01mif\u001b[39;00m \u001b[38;5;28mself\u001b[39m\u001b[38;5;241m.\u001b[39mwith_std:\n\u001b[0;32m    912\u001b[0m         \u001b[38;5;66;03m# First pass\u001b[39;00m\n",
      "\u001b[1;31mValueError\u001b[0m: Cannot center sparse matrices: pass `with_mean=False` instead. See docstring for motivation and alternatives."
     ]
    }
   ],
   "source": [
    "# Save standardized features into new variable\n",
    "X_scaled = scaler.fit_transform(X)\n",
    "X_scaled = pd.DataFrame(X_scaled,columns=X.columns)\n",
    "X_scaled.head(5)\n",
    "\n",
    "# X_scaled = scaler.fit_transform(X)\n",
    "# X_scaled = pd.DataFrame(X_scaled, columns=X.columns)\n",
    "# X_scaled.head(5)\n",
    "\n",
    "# X_scaled = scaler.fit_transform(X)\n",
    "# X_scaled = pd.DataFrame(X_scaled,columns=X.columns)\n",
    "# X_scaled.head(5)"
   ]
  },
  {
   "cell_type": "markdown",
   "metadata": {},
   "source": [
    "What we going to do is to split our data into 80% for training and the remaining 20% for testing i.e test_size = 0.2 A random_state of 1 was selected so that we can reproduce the results."
   ]
  },
  {
   "cell_type": "code",
   "execution_count": 21,
   "metadata": {
    "execution": {
     "iopub.execute_input": "2023-11-28T10:20:37.940324Z",
     "iopub.status.busy": "2023-11-28T10:20:37.940015Z",
     "iopub.status.idle": "2023-11-28T10:20:37.948176Z",
     "shell.execute_reply": "2023-11-28T10:20:37.947273Z",
     "shell.execute_reply.started": "2023-11-28T10:20:37.940297Z"
    }
   },
   "outputs": [],
   "source": [
    "#Separating our model into training set and testing set\n",
    "X_train, X_test, y_train, y_test = train_test_split(X_tfidf_train, Y, test_size=0.2, random_state = 1)"
   ]
  },
  {
   "cell_type": "markdown",
   "metadata": {},
   "source": [
    "Lets confirm the numbers on our split:"
   ]
  },
  {
   "cell_type": "code",
   "execution_count": 22,
   "metadata": {
    "execution": {
     "iopub.execute_input": "2023-11-28T10:20:37.949915Z",
     "iopub.status.busy": "2023-11-28T10:20:37.949473Z",
     "iopub.status.idle": "2023-11-28T10:20:37.957513Z",
     "shell.execute_reply": "2023-11-28T10:20:37.956123Z",
     "shell.execute_reply.started": "2023-11-28T10:20:37.949879Z"
    }
   },
   "outputs": [
    {
     "name": "stdout",
     "output_type": "stream",
     "text": [
      "Training Predictor: (12655, 28787)\n",
      "Training Target: (12655,)\n",
      "Testing Predictor: (3164, 28787)\n",
      "Testing Target: (3164,)\n"
     ]
    }
   ],
   "source": [
    "#Confirming the data is split correctly\n",
    "print('Training Predictor:', X_train.shape)\n",
    "print('Training Target:', y_train.shape)\n",
    "print('Testing Predictor:', X_test.shape)\n",
    "print('Testing Target:', y_test.shape)\n"
   ]
  },
  {
   "cell_type": "markdown",
   "metadata": {},
   "source": [
    "## We used the following 7 classifiers models so see which would suite our model best:\n",
    "\n",
    "- Logistic Regression\n",
    "- Nearest Neighbors\n",
    "- Linear SVM\n",
    "- RBF SVM\n",
    "- Decision Tree\n",
    "- Random Forest\n",
    "- AdaBoost"
   ]
  },
  {
   "cell_type": "code",
   "execution_count": 36,
   "metadata": {},
   "outputs": [],
   "source": [
    "# Define classifiers with their respective hyperparameter grids\n",
    "classifiers = {\n",
    "   'Logistic Regression': (LogisticRegression(max_iter=1000), {'C': [0.001, 0.01, 0.1, 1, 10, 100]}),\n",
    "#    'Nearest Neighbors': (KNeighborsClassifier(), {'n_neighbors': [3, 5, 7]}),\n",
    "     'Linear SVM': (SVC(kernel='linear'), {'C': [0.001, 0.01, 0.1, 1, 10, 100]}),\n",
    "     'RBF SVM': (SVC(kernel='rbf'), {'C': [0.001, 0.01, 0.1, 1, 10, 100], 'gamma': [0.001, 0.01, 0.1, 1, 10, 100]}),\n",
    "#     'Decision Tree': (DecisionTreeClassifier(), {'max_depth': [5, 10, 20, 30, 40]}),\n",
    "#     'Random Forest': (RandomForestClassifier(), {'n_estimators': [50, 75, 100], 'max_depth': [5, 10, 20, 30]}),\n",
    "#     'AdaBoost': (AdaBoostClassifier(), {'n_estimators': [50, 75, 100], 'learning_rate': [0.001, 0.01, 0.1, 1]})\n",
    "}\n"
   ]
  },
  {
   "cell_type": "code",
   "execution_count": 38,
   "metadata": {
    "execution": {
     "iopub.execute_input": "2023-11-28T10:20:37.960076Z",
     "iopub.status.busy": "2023-11-28T10:20:37.959242Z",
     "iopub.status.idle": "2023-11-28T10:20:40.483614Z",
     "shell.execute_reply": "2023-11-28T10:20:40.482561Z",
     "shell.execute_reply.started": "2023-11-28T10:20:37.960032Z"
    }
   },
   "outputs": [
    {
     "name": "stdout",
     "output_type": "stream",
     "text": [
      "Logistic Regression - Best Hyperparameters: {'C': 10}, F1 Score on Validation Set: 0.7213531804497604\n",
      "Nearest Neighbors - Best Hyperparameters: {'n_neighbors': 5}, F1 Score on Validation Set: 0.6527792550526057\n"
     ]
    }
   ],
   "source": [
    "\n",
    "#Making a list of the f1_scores and Classifier names for future use:\n",
    "classifier_names = []\n",
    "f1_scores = []\n",
    "\n",
    "# Loop through classifiers and perform hyperparameter tuning\n",
    "for name, (classifier, param_grid) in classifiers.items():\n",
    "    grid_search = GridSearchCV(classifier, param_grid, scoring='f1_weighted', cv=3)\n",
    "    grid_search.fit(X_train, y_train)\n",
    "\n",
    "    # Get the best hyperparameters and model\n",
    "    best_params = grid_search.best_params_\n",
    "    best_model = grid_search.best_estimator_\n",
    "\n",
    "    # Evaluate the best model on the validation set\n",
    "    y_pred_val = best_model.predict(X_test)\n",
    "    f1_val = f1_score(y_test, y_pred_val, average=\"weighted\")\n",
    "\n",
    "    # Store classifier name and F1 score\n",
    "    classifier_names.append(name)\n",
    "    f1_scores.append(f1_val)\n",
    "\n",
    "    print(f\"{name} - Best Hyperparameters: {best_params}, F1 Score on Validation Set: {f1_val}\")\n"
   ]
  },
  {
   "cell_type": "markdown",
   "metadata": {},
   "source": [
    "<a id=\"six\"></a>\n",
    "# 6. Model Performance\n",
    "<a class=\"anchor\" id=\"1.1\"></a>\n",
    "<a href=#cont>Back to Table of Contents</a>"
   ]
  },
  {
   "cell_type": "markdown",
   "metadata": {},
   "source": [
    "We want to look at the results a bit more visually, therefore we will be drafting a bar graph to compare."
   ]
  },
  {
   "cell_type": "code",
   "execution_count": 41,
   "metadata": {
    "execution": {
     "iopub.execute_input": "2023-11-28T10:20:52.180679Z",
     "iopub.status.busy": "2023-11-28T10:20:52.180316Z",
     "iopub.status.idle": "2023-11-28T10:20:52.314078Z",
     "shell.execute_reply": "2023-11-28T10:20:52.313046Z",
     "shell.execute_reply.started": "2023-11-28T10:20:52.180649Z"
    }
   },
   "outputs": [
    {
     "data": {
      "image/png": "[encoded data removed]",
      "text/plain": [
       "<Figure size 1000x600 with 1 Axes>"
      ]
     },
     "metadata": {},
     "output_type": "display_data"
    }
   ],
   "source": [
    "# Create a bar graph\n",
    "plt.figure(figsize=(10, 6))\n",
    "plt.bar(classifier_names, f1_scores, color='skyblue')\n",
    "plt.title('F1 Scores of Different Classifiers on Validation Set')\n",
    "plt.xlabel('Classifier')\n",
    "plt.ylabel('F1 Score')\n",
    "plt.ylim(0, 1)  # Adjust the y-axis limits if necessary\n",
    "plt.show()"
   ]
  },
  {
   "cell_type": "markdown",
   "metadata": {},
   "source": [
    "<a id=\"seven\"></a>\n",
    "## 7. Model Explanations\n",
    "<a class=\"anchor\" id=\"1.1\"></a>\n",
    "<a href=#cont>Back to Table of Contents</a>\n",
    "\n",
    "---\n",
    "    \n",
    "| ⚡ Description: Model explanation ⚡ |\n",
    "| :--------------------------- |\n",
    "| In this section, you are required to discuss how the best performing model works in a simple way so that both technical and non-technical stakeholders can grasp the intuition behind the model's inner workings. |\n",
    "\n",
    "---"
   ]
  },
  {
   "cell_type": "markdown",
   "metadata": {},
   "source": [
    "## Let's interpret each metric and discuss what can be inferred from the results:\n",
    "\n",
    "- Random Forest Regression Metrics:\n",
    "\n",
    "MSE (Mean Squared Error): 15,091,759.41\n",
    "RMSE (Root Mean Squared Error): 3,884.81\n",
    "MAE (Mean Absolute Error): 3,075.41\n",
    "R-squared (R2): 0.44\n",
    "Interpretation: The Random Forest model has moderate performance. The R-squared value of 0.44 indicates that approximately 44% of the variance in the target variable is explained by the model. The RMSE and MAE values provide insights into the average magnitude of errors.\n",
    "\n",
    "- Ridge Regression Metrics:\n",
    "\n",
    "MSE: 22,561,574.97\n",
    "RMSE: 4,749.90\n",
    "MAE: 3,765.75\n",
    "R2: 0.16\n",
    "Interpretation: The Ridge Regression model performs less well compared to Random Forest. The R-squared value of 0.16 suggests that the model explains only 16% of the variance in the target variable.\n",
    "\n",
    "- Decision Tree Regression Metrics:\n",
    "\n",
    "MSE: 14,085,973.88\n",
    "RMSE: 3,753.13\n",
    "MAE: 2,749.88\n",
    "R2: 0.47\n",
    "Interpretation: The Decision Tree model shows competitive performance. The R-squared value of 0.47 indicates a relatively good fit, and the RMSE and MAE values are lower compared to Random Forest, implying better accuracy.\n",
    "\n",
    "- Extra Tree Regression Metrics:\n",
    "\n",
    "MSE: 14,419,821.58\n",
    "RMSE: 3,797.34\n",
    "MAE: 3,035.92\n",
    "R2: 0.46\n",
    "Interpretation: Extra Tree Regression performs similarly to Decision Tree Regression. The R-squared value of 0.46 suggests a good fit, and the RMSE and MAE values are competitive.\n",
    "\n",
    "- XGBoost Regressor Metrics:\n",
    "\n",
    "MSE: 16,340,687.30\n",
    "RMSE: 4,042.36\n",
    "MAE: 3,235.81\n",
    "R2: 0.39\n",
    "Interpretation: XGBoost Regressor has a performance level between Random Forest and Ridge Regression. The R-squared value of 0.39 indicates a moderate fit to the data.\n",
    "\n",
    "- Overall Takeaways:\n",
    "\n",
    "Decision Tree and Extra Tree models seem to perform well with relatively low RMSE and MAE values and higher R-squared values compared to others.\n",
    "Random Forest, while providing a good balance, may not have outperformed Decision Tree and Extra Tree models in this specific context.\n",
    "Ridge Regression appears to have the lowest performance among the models considered."
   ]
  },
  {
   "cell_type": "markdown",
   "metadata": {},
   "source": [
    "## Creating the CSV file for the Kaggle competition\n",
    "\n",
    "Using the regression model to predict the shortfall between energy generated by fossil fuels and energy generated with renewable sources.  "
   ]
  },
  {
   "cell_type": "code",
   "execution_count": null,
   "metadata": {
    "execution": {
     "iopub.execute_input": "2023-11-28T10:20:53.962220Z",
     "iopub.status.busy": "2023-11-28T10:20:53.961864Z",
     "iopub.status.idle": "2023-11-28T10:20:53.992050Z",
     "shell.execute_reply": "2023-11-28T10:20:53.991313Z",
     "shell.execute_reply.started": "2023-11-28T10:20:53.962189Z"
    }
   },
   "outputs": [],
   "source": [
    "#Just to review the amended test set:\n",
    "copy_test_df.head(10)"
   ]
  },
  {
   "cell_type": "code",
   "execution_count": null,
   "metadata": {
    "execution": {
     "iopub.execute_input": "2023-11-28T10:20:53.993615Z",
     "iopub.status.busy": "2023-11-28T10:20:53.993025Z",
     "iopub.status.idle": "2023-11-28T10:20:54.017700Z",
     "shell.execute_reply": "2023-11-28T10:20:54.016713Z",
     "shell.execute_reply.started": "2023-11-28T10:20:53.993585Z"
    }
   },
   "outputs": [],
   "source": [
    "#Updating the dataset to the variable needed\n",
    "X_test = copy_test_df\n",
    "\n",
    "# Make predictions using the trained Random Forest model\n",
    "y_pred_dt_test = xg_reg.predict(copy_test_df)"
   ]
  },
  {
   "cell_type": "code",
   "execution_count": null,
   "metadata": {
    "execution": {
     "iopub.execute_input": "2023-11-28T10:20:54.019475Z",
     "iopub.status.busy": "2023-11-28T10:20:54.019129Z",
     "iopub.status.idle": "2023-11-28T10:20:54.033931Z",
     "shell.execute_reply": "2023-11-28T10:20:54.032685Z",
     "shell.execute_reply.started": "2023-11-28T10:20:54.019446Z"
    }
   },
   "outputs": [],
   "source": [
    "#Ensuring the DF is layout is correct, columns are named correctly and in the proper order\n",
    "output = pd.DataFrame(y_pred_dt_test, columns=['load_shortfall_3h'])\n",
    "time = test_df['time']\n",
    "result = pd.concat([time, output], axis=1)\n",
    "result.head(100)"
   ]
  },
  {
   "cell_type": "code",
   "execution_count": null,
   "metadata": {
    "execution": {
     "iopub.execute_input": "2023-11-28T10:20:54.035658Z",
     "iopub.status.busy": "2023-11-28T10:20:54.035348Z",
     "iopub.status.idle": "2023-11-28T10:20:54.052109Z",
     "shell.execute_reply": "2023-11-28T10:20:54.051086Z",
     "shell.execute_reply.started": "2023-11-28T10:20:54.035619Z"
    }
   },
   "outputs": [],
   "source": [
    "result.to_csv('submission.csv', index=False)"
   ]
  }
 ],
 "metadata": {
  "kaggle": {
   "accelerator": "none",
   "dataSources": [
    {
     "databundleVersionId": 3923770,
     "sourceId": 37478,
     "sourceType": "competition"
    }
   ],
   "dockerImageVersionId": 30587,
   "isGpuEnabled": false,
   "isInternetEnabled": true,
   "language": "python",
   "sourceType": "notebook"
  },
  "kernelspec": {
   "display_name": "Python 3 (ipykernel)",
   "language": "python",
   "name": "python3"
  },
  "language_info": {
   "codemirror_mode": {
    "name": "ipython",
    "version": 3
   },
   "file_extension": ".py",
   "mimetype": "text/x-python",
   "name": "python",
   "nbconvert_exporter": "python",
   "pygments_lexer": "ipython3",
   "version": "3.10.13"
  },
  "latex_envs": {
   "LaTeX_envs_menu_present": true,
   "autoclose": false,
   "autocomplete": true,
   "bibliofile": "biblio.bib",
   "cite_by": "apalike",
   "current_citInitial": 1,
   "eqLabelWithNumbers": true,
   "eqNumInitial": 1,
   "hotkeys": {
    "equation": "Ctrl-E",
    "itemize": "Ctrl-I"
   },
   "labels_anchors": false,
   "latex_user_defs": false,
   "report_style_numbering": false,
   "user_envs_cfg": false
  },
  "toc": {
   "base_numbering": 1,
   "nav_menu": {},
   "number_sections": true,
   "sideBar": true,
   "skip_h1_title": false,
   "title_cell": "Table of Contents",
   "title_sidebar": "Contents",
   "toc_cell": false,
   "toc_position": {},
   "toc_section_display": true,
   "toc_window_display": false
  },
  "varInspector": {
   "cols": {
    "lenName": 16,
    "lenType": 16,
    "lenVar": 40
   },
   "kernels_config": {
    "python": {
     "delete_cmd_postfix": "",
     "delete_cmd_prefix": "del ",
     "library": "var_list.py",
     "varRefreshCmd": "print(var_dic_list())"
    },
    "r": {
     "delete_cmd_postfix": ") ",
     "delete_cmd_prefix": "rm(",
     "library": "var_list.r",
     "varRefreshCmd": "cat(var_dic_list()) "
    }
   },
   "types_to_exclude": [
    "module",
    "function",
    "builtin_function_or_method",
    "instance",
    "_Feature"
   ],
   "window_display": false
  }
 },
 "nbformat": 4,
 "nbformat_minor": 4
}
